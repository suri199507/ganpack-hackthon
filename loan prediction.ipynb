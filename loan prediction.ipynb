{
 "cells": [
  {
   "cell_type": "code",
   "execution_count": 81,
   "metadata": {},
   "outputs": [],
   "source": [
    "import os\n",
    "import sys\n",
    "import pandas as pd\n",
    "import numpy as np\n",
    "import matplotlib.pyplot as plt\n",
    "import seaborn as sns\n",
    "import warnings\n",
    "%matplotlib inline"
   ]
  },
  {
   "cell_type": "code",
   "execution_count": 82,
   "metadata": {},
   "outputs": [],
   "source": [
    "train=pd.read_csv('C:/Users/NanduCn/jupter1/train_loan.csv')\n",
    "test=pd.read_csv('C:/Users/NanduCn/jupter1/test_loan.csv')"
   ]
  },
  {
   "cell_type": "code",
   "execution_count": 83,
   "metadata": {},
   "outputs": [
    {
     "data": {
      "text/html": [
       "<div>\n",
       "<style scoped>\n",
       "    .dataframe tbody tr th:only-of-type {\n",
       "        vertical-align: middle;\n",
       "    }\n",
       "\n",
       "    .dataframe tbody tr th {\n",
       "        vertical-align: top;\n",
       "    }\n",
       "\n",
       "    .dataframe thead th {\n",
       "        text-align: right;\n",
       "    }\n",
       "</style>\n",
       "<table border=\"1\" class=\"dataframe\">\n",
       "  <thead>\n",
       "    <tr style=\"text-align: right;\">\n",
       "      <th></th>\n",
       "      <th>ApplicantIncome</th>\n",
       "      <th>CoapplicantIncome</th>\n",
       "      <th>LoanAmount</th>\n",
       "      <th>Loan_Amount_Term</th>\n",
       "      <th>Credit_History</th>\n",
       "    </tr>\n",
       "  </thead>\n",
       "  <tbody>\n",
       "    <tr>\n",
       "      <th>count</th>\n",
       "      <td>614.000000</td>\n",
       "      <td>614.000000</td>\n",
       "      <td>592.000000</td>\n",
       "      <td>600.00000</td>\n",
       "      <td>564.000000</td>\n",
       "    </tr>\n",
       "    <tr>\n",
       "      <th>mean</th>\n",
       "      <td>5403.459283</td>\n",
       "      <td>1621.245798</td>\n",
       "      <td>146.412162</td>\n",
       "      <td>342.00000</td>\n",
       "      <td>0.842199</td>\n",
       "    </tr>\n",
       "    <tr>\n",
       "      <th>std</th>\n",
       "      <td>6109.041673</td>\n",
       "      <td>2926.248369</td>\n",
       "      <td>85.587325</td>\n",
       "      <td>65.12041</td>\n",
       "      <td>0.364878</td>\n",
       "    </tr>\n",
       "    <tr>\n",
       "      <th>min</th>\n",
       "      <td>150.000000</td>\n",
       "      <td>0.000000</td>\n",
       "      <td>9.000000</td>\n",
       "      <td>12.00000</td>\n",
       "      <td>0.000000</td>\n",
       "    </tr>\n",
       "    <tr>\n",
       "      <th>25%</th>\n",
       "      <td>2877.500000</td>\n",
       "      <td>0.000000</td>\n",
       "      <td>100.000000</td>\n",
       "      <td>360.00000</td>\n",
       "      <td>1.000000</td>\n",
       "    </tr>\n",
       "    <tr>\n",
       "      <th>50%</th>\n",
       "      <td>3812.500000</td>\n",
       "      <td>1188.500000</td>\n",
       "      <td>128.000000</td>\n",
       "      <td>360.00000</td>\n",
       "      <td>1.000000</td>\n",
       "    </tr>\n",
       "    <tr>\n",
       "      <th>75%</th>\n",
       "      <td>5795.000000</td>\n",
       "      <td>2297.250000</td>\n",
       "      <td>168.000000</td>\n",
       "      <td>360.00000</td>\n",
       "      <td>1.000000</td>\n",
       "    </tr>\n",
       "    <tr>\n",
       "      <th>max</th>\n",
       "      <td>81000.000000</td>\n",
       "      <td>41667.000000</td>\n",
       "      <td>700.000000</td>\n",
       "      <td>480.00000</td>\n",
       "      <td>1.000000</td>\n",
       "    </tr>\n",
       "  </tbody>\n",
       "</table>\n",
       "</div>"
      ],
      "text/plain": [
       "       ApplicantIncome  CoapplicantIncome  LoanAmount  Loan_Amount_Term  \\\n",
       "count       614.000000         614.000000  592.000000         600.00000   \n",
       "mean       5403.459283        1621.245798  146.412162         342.00000   \n",
       "std        6109.041673        2926.248369   85.587325          65.12041   \n",
       "min         150.000000           0.000000    9.000000          12.00000   \n",
       "25%        2877.500000           0.000000  100.000000         360.00000   \n",
       "50%        3812.500000        1188.500000  128.000000         360.00000   \n",
       "75%        5795.000000        2297.250000  168.000000         360.00000   \n",
       "max       81000.000000       41667.000000  700.000000         480.00000   \n",
       "\n",
       "       Credit_History  \n",
       "count      564.000000  \n",
       "mean         0.842199  \n",
       "std          0.364878  \n",
       "min          0.000000  \n",
       "25%          1.000000  \n",
       "50%          1.000000  \n",
       "75%          1.000000  \n",
       "max          1.000000  "
      ]
     },
     "execution_count": 83,
     "metadata": {},
     "output_type": "execute_result"
    }
   ],
   "source": [
    "train.describe()"
   ]
  },
  {
   "cell_type": "code",
   "execution_count": 84,
   "metadata": {},
   "outputs": [],
   "source": [
    "a1=test['Loan_ID']"
   ]
  },
  {
   "cell_type": "code",
   "execution_count": 85,
   "metadata": {},
   "outputs": [
    {
     "data": {
      "text/plain": [
       "((614, 13), (367, 12))"
      ]
     },
     "execution_count": 85,
     "metadata": {},
     "output_type": "execute_result"
    }
   ],
   "source": [
    "train.shape,test.shape"
   ]
  },
  {
   "cell_type": "code",
   "execution_count": 86,
   "metadata": {},
   "outputs": [
    {
     "data": {
      "text/html": [
       "<div>\n",
       "<style scoped>\n",
       "    .dataframe tbody tr th:only-of-type {\n",
       "        vertical-align: middle;\n",
       "    }\n",
       "\n",
       "    .dataframe tbody tr th {\n",
       "        vertical-align: top;\n",
       "    }\n",
       "\n",
       "    .dataframe thead th {\n",
       "        text-align: right;\n",
       "    }\n",
       "</style>\n",
       "<table border=\"1\" class=\"dataframe\">\n",
       "  <thead>\n",
       "    <tr style=\"text-align: right;\">\n",
       "      <th></th>\n",
       "      <th>Loan_ID</th>\n",
       "      <th>Gender</th>\n",
       "      <th>Married</th>\n",
       "      <th>Dependents</th>\n",
       "      <th>Education</th>\n",
       "      <th>Self_Employed</th>\n",
       "      <th>ApplicantIncome</th>\n",
       "      <th>CoapplicantIncome</th>\n",
       "      <th>LoanAmount</th>\n",
       "      <th>Loan_Amount_Term</th>\n",
       "      <th>Credit_History</th>\n",
       "      <th>Property_Area</th>\n",
       "      <th>Loan_Status</th>\n",
       "    </tr>\n",
       "  </thead>\n",
       "  <tbody>\n",
       "    <tr>\n",
       "      <th>0</th>\n",
       "      <td>LP001002</td>\n",
       "      <td>Male</td>\n",
       "      <td>No</td>\n",
       "      <td>0</td>\n",
       "      <td>Graduate</td>\n",
       "      <td>No</td>\n",
       "      <td>5849</td>\n",
       "      <td>0.0</td>\n",
       "      <td>NaN</td>\n",
       "      <td>360.0</td>\n",
       "      <td>1.0</td>\n",
       "      <td>Urban</td>\n",
       "      <td>Y</td>\n",
       "    </tr>\n",
       "    <tr>\n",
       "      <th>1</th>\n",
       "      <td>LP001003</td>\n",
       "      <td>Male</td>\n",
       "      <td>Yes</td>\n",
       "      <td>1</td>\n",
       "      <td>Graduate</td>\n",
       "      <td>No</td>\n",
       "      <td>4583</td>\n",
       "      <td>1508.0</td>\n",
       "      <td>128.0</td>\n",
       "      <td>360.0</td>\n",
       "      <td>1.0</td>\n",
       "      <td>Rural</td>\n",
       "      <td>N</td>\n",
       "    </tr>\n",
       "    <tr>\n",
       "      <th>2</th>\n",
       "      <td>LP001005</td>\n",
       "      <td>Male</td>\n",
       "      <td>Yes</td>\n",
       "      <td>0</td>\n",
       "      <td>Graduate</td>\n",
       "      <td>Yes</td>\n",
       "      <td>3000</td>\n",
       "      <td>0.0</td>\n",
       "      <td>66.0</td>\n",
       "      <td>360.0</td>\n",
       "      <td>1.0</td>\n",
       "      <td>Urban</td>\n",
       "      <td>Y</td>\n",
       "    </tr>\n",
       "    <tr>\n",
       "      <th>3</th>\n",
       "      <td>LP001006</td>\n",
       "      <td>Male</td>\n",
       "      <td>Yes</td>\n",
       "      <td>0</td>\n",
       "      <td>Not Graduate</td>\n",
       "      <td>No</td>\n",
       "      <td>2583</td>\n",
       "      <td>2358.0</td>\n",
       "      <td>120.0</td>\n",
       "      <td>360.0</td>\n",
       "      <td>1.0</td>\n",
       "      <td>Urban</td>\n",
       "      <td>Y</td>\n",
       "    </tr>\n",
       "    <tr>\n",
       "      <th>4</th>\n",
       "      <td>LP001008</td>\n",
       "      <td>Male</td>\n",
       "      <td>No</td>\n",
       "      <td>0</td>\n",
       "      <td>Graduate</td>\n",
       "      <td>No</td>\n",
       "      <td>6000</td>\n",
       "      <td>0.0</td>\n",
       "      <td>141.0</td>\n",
       "      <td>360.0</td>\n",
       "      <td>1.0</td>\n",
       "      <td>Urban</td>\n",
       "      <td>Y</td>\n",
       "    </tr>\n",
       "  </tbody>\n",
       "</table>\n",
       "</div>"
      ],
      "text/plain": [
       "    Loan_ID Gender Married Dependents     Education Self_Employed  \\\n",
       "0  LP001002   Male      No          0      Graduate            No   \n",
       "1  LP001003   Male     Yes          1      Graduate            No   \n",
       "2  LP001005   Male     Yes          0      Graduate           Yes   \n",
       "3  LP001006   Male     Yes          0  Not Graduate            No   \n",
       "4  LP001008   Male      No          0      Graduate            No   \n",
       "\n",
       "   ApplicantIncome  CoapplicantIncome  LoanAmount  Loan_Amount_Term  \\\n",
       "0             5849                0.0         NaN             360.0   \n",
       "1             4583             1508.0       128.0             360.0   \n",
       "2             3000                0.0        66.0             360.0   \n",
       "3             2583             2358.0       120.0             360.0   \n",
       "4             6000                0.0       141.0             360.0   \n",
       "\n",
       "   Credit_History Property_Area Loan_Status  \n",
       "0             1.0         Urban           Y  \n",
       "1             1.0         Rural           N  \n",
       "2             1.0         Urban           Y  \n",
       "3             1.0         Urban           Y  \n",
       "4             1.0         Urban           Y  "
      ]
     },
     "execution_count": 86,
     "metadata": {},
     "output_type": "execute_result"
    }
   ],
   "source": [
    "train.head()"
   ]
  },
  {
   "cell_type": "code",
   "execution_count": 87,
   "metadata": {},
   "outputs": [
    {
     "data": {
      "text/plain": [
       "<matplotlib.axes._subplots.AxesSubplot at 0x13bc5d65b00>"
      ]
     },
     "execution_count": 87,
     "metadata": {},
     "output_type": "execute_result"
    },
    {
     "data": {
      "image/png": "[encoded data removed]",
      "text/plain": [
       "<Figure size 432x288 with 1 Axes>"
      ]
     },
     "metadata": {},
     "output_type": "display_data"
    }
   ],
   "source": [
    "train.LoanAmount.hist(bins=50)"
   ]
  },
  {
   "cell_type": "code",
   "execution_count": 88,
   "metadata": {},
   "outputs": [
    {
     "data": {
      "text/plain": [
       "<matplotlib.axes._subplots.AxesSubplot at 0x13bc4ea8c18>"
      ]
     },
     "execution_count": 88,
     "metadata": {},
     "output_type": "execute_result"
    },
    {
     "data": {
      "image/png": "[encoded data removed]",
      "text/plain": [
       "<Figure size 432x288 with 1 Axes>"
      ]
     },
     "metadata": {},
     "output_type": "display_data"
    }
   ],
   "source": [
    "train.ApplicantIncome.hist()"
   ]
  },
  {
   "cell_type": "code",
   "execution_count": 89,
   "metadata": {},
   "outputs": [
    {
     "data": {
      "text/plain": [
       "Loan_ID               0\n",
       "Gender               13\n",
       "Married               3\n",
       "Dependents           15\n",
       "Education             0\n",
       "Self_Employed        32\n",
       "ApplicantIncome       0\n",
       "CoapplicantIncome     0\n",
       "LoanAmount           22\n",
       "Loan_Amount_Term     14\n",
       "Credit_History       50\n",
       "Property_Area         0\n",
       "Loan_Status           0\n",
       "dtype: int64"
      ]
     },
     "execution_count": 89,
     "metadata": {},
     "output_type": "execute_result"
    }
   ],
   "source": [
    "train.isnull().sum()"
   ]
  },
  {
   "cell_type": "code",
   "execution_count": 90,
   "metadata": {},
   "outputs": [],
   "source": [
    "Y=train['Loan_Status'].map({'Y':1,'N':0})\n"
   ]
  },
  {
   "cell_type": "code",
   "execution_count": 91,
   "metadata": {},
   "outputs": [
    {
     "data": {
      "text/plain": [
       "Y    422\n",
       "N    192\n",
       "Name: Loan_Status, dtype: int64"
      ]
     },
     "execution_count": 91,
     "metadata": {},
     "output_type": "execute_result"
    }
   ],
   "source": [
    "train['Loan_Status'].value_counts()"
   ]
  },
  {
   "cell_type": "code",
   "execution_count": 92,
   "metadata": {},
   "outputs": [
    {
     "data": {
      "text/plain": [
       "<matplotlib.axes._subplots.AxesSubplot at 0x13bc5e09860>"
      ]
     },
     "execution_count": 92,
     "metadata": {},
     "output_type": "execute_result"
    },
    {
     "data": {
      "image/png": "[encoded data removed]",
      "text/plain": [
       "<Figure size 432x288 with 1 Axes>"
      ]
     },
     "metadata": {},
     "output_type": "display_data"
    }
   ],
   "source": [
    "train['Loan_Status'].value_counts().plot.bar()"
   ]
  },
  {
   "cell_type": "code",
   "execution_count": 93,
   "metadata": {},
   "outputs": [
    {
     "data": {
      "text/plain": [
       "array(['Male', 'Female', nan], dtype=object)"
      ]
     },
     "execution_count": 93,
     "metadata": {},
     "output_type": "execute_result"
    }
   ],
   "source": [
    "train.Gender.unique()"
   ]
  },
  {
   "cell_type": "code",
   "execution_count": 94,
   "metadata": {},
   "outputs": [],
   "source": [
    "train['Gender'].fillna(train['Gender'].mode(), inplace=True)"
   ]
  },
  {
   "cell_type": "code",
   "execution_count": 95,
   "metadata": {},
   "outputs": [],
   "source": [
    "train['Gender'].fillna(train['Gender'].mode()[0], inplace=True)\n",
    "train['Married'].fillna(train['Married'].mode()[0], inplace=True)\n",
    "train['Dependents'].fillna(train['Dependents'].mode()[0], inplace=True)\n",
    "train['Self_Employed'].fillna(train['Self_Employed'].mode()[0], inplace=True)\n",
    "train['Credit_History'].fillna(train['Credit_History'].mode()[0], inplace=True)"
   ]
  },
  {
   "cell_type": "code",
   "execution_count": 96,
   "metadata": {},
   "outputs": [
    {
     "data": {
      "text/plain": [
       "Loan_ID               0\n",
       "Gender                0\n",
       "Married               0\n",
       "Dependents            0\n",
       "Education             0\n",
       "Self_Employed         0\n",
       "ApplicantIncome       0\n",
       "CoapplicantIncome     0\n",
       "LoanAmount           22\n",
       "Loan_Amount_Term     14\n",
       "Credit_History        0\n",
       "Property_Area         0\n",
       "Loan_Status           0\n",
       "dtype: int64"
      ]
     },
     "execution_count": 96,
     "metadata": {},
     "output_type": "execute_result"
    }
   ],
   "source": [
    "train.isnull().sum()"
   ]
  },
  {
   "cell_type": "code",
   "execution_count": 97,
   "metadata": {},
   "outputs": [],
   "source": [
    "train['Loan_Amount_Term'].fillna(train['Loan_Amount_Term'].mode()[0], inplace=True)\n",
    "train['LoanAmount'].fillna(train['LoanAmount'].median(), inplace=True)"
   ]
  },
  {
   "cell_type": "code",
   "execution_count": 98,
   "metadata": {},
   "outputs": [
    {
     "data": {
      "text/plain": [
       "Loan_ID              0\n",
       "Gender               0\n",
       "Married              0\n",
       "Dependents           0\n",
       "Education            0\n",
       "Self_Employed        0\n",
       "ApplicantIncome      0\n",
       "CoapplicantIncome    0\n",
       "LoanAmount           0\n",
       "Loan_Amount_Term     0\n",
       "Credit_History       0\n",
       "Property_Area        0\n",
       "Loan_Status          0\n",
       "dtype: int64"
      ]
     },
     "execution_count": 98,
     "metadata": {},
     "output_type": "execute_result"
    }
   ],
   "source": [
    "train.isnull().sum()"
   ]
  },
  {
   "cell_type": "code",
   "execution_count": 99,
   "metadata": {},
   "outputs": [],
   "source": [
    "test['Gender'].fillna(train['Gender'].mode()[0], inplace=True)\n",
    "test['Dependents'].fillna(train['Dependents'].mode()[0], inplace=True)\n",
    "test['Self_Employed'].fillna(train['Self_Employed'].mode()[0], inplace=True)\n",
    "test['Credit_History'].fillna(train['Credit_History'].mode()[0], inplace=True)\n",
    "test['Loan_Amount_Term'].fillna(train['Loan_Amount_Term'].mode()[0], inplace=True)\n",
    "test['LoanAmount'].fillna(train['LoanAmount'].median(), inplace=True)"
   ]
  },
  {
   "cell_type": "code",
   "execution_count": 101,
   "metadata": {},
   "outputs": [],
   "source": [
    "mylist=list(train.select_dtypes(include=['object']).columns)\n",
    "mylist.remove('Loan_ID')\n",
    "\n",
    "mylist1=list(test.select_dtypes(include=['object']).columns)\n",
    "mylist1.remove('Loan_ID')"
   ]
  },
  {
   "cell_type": "code",
   "execution_count": 102,
   "metadata": {},
   "outputs": [],
   "source": [
    "mylist.remove('Loan_Status')\n"
   ]
  },
  {
   "cell_type": "code",
   "execution_count": 103,
   "metadata": {},
   "outputs": [
    {
     "data": {
      "text/plain": [
       "(['Gender',\n",
       "  'Married',\n",
       "  'Dependents',\n",
       "  'Education',\n",
       "  'Self_Employed',\n",
       "  'Property_Area'],\n",
       " ['Gender',\n",
       "  'Married',\n",
       "  'Dependents',\n",
       "  'Education',\n",
       "  'Self_Employed',\n",
       "  'Property_Area'])"
      ]
     },
     "execution_count": 103,
     "metadata": {},
     "output_type": "execute_result"
    }
   ],
   "source": [
    "mylist, mylist1"
   ]
  },
  {
   "cell_type": "code",
   "execution_count": 104,
   "metadata": {},
   "outputs": [],
   "source": [
    "dummies=pd.get_dummies(train[mylist], prefix=mylist)\n",
    "train.drop(mylist, axis=1, inplace=True)\n",
    "train=pd.concat([train,dummies], axis=1)\n",
    "\n",
    "dummies1=pd.get_dummies(test[mylist1], prefix=mylist1)\n",
    "test.drop(mylist1, axis=1, inplace=True)\n",
    "test=pd.concat([test,dummies1], axis=1)"
   ]
  },
  {
   "cell_type": "code",
   "execution_count": 105,
   "metadata": {},
   "outputs": [
    {
     "data": {
      "text/html": [
       "<div>\n",
       "<style scoped>\n",
       "    .dataframe tbody tr th:only-of-type {\n",
       "        vertical-align: middle;\n",
       "    }\n",
       "\n",
       "    .dataframe tbody tr th {\n",
       "        vertical-align: top;\n",
       "    }\n",
       "\n",
       "    .dataframe thead th {\n",
       "        text-align: right;\n",
       "    }\n",
       "</style>\n",
       "<table border=\"1\" class=\"dataframe\">\n",
       "  <thead>\n",
       "    <tr style=\"text-align: right;\">\n",
       "      <th></th>\n",
       "      <th>Loan_ID</th>\n",
       "      <th>ApplicantIncome</th>\n",
       "      <th>CoapplicantIncome</th>\n",
       "      <th>LoanAmount</th>\n",
       "      <th>Loan_Amount_Term</th>\n",
       "      <th>Credit_History</th>\n",
       "      <th>Loan_Status</th>\n",
       "      <th>Gender_Female</th>\n",
       "      <th>Gender_Male</th>\n",
       "      <th>Married_No</th>\n",
       "      <th>...</th>\n",
       "      <th>Dependents_1</th>\n",
       "      <th>Dependents_2</th>\n",
       "      <th>Dependents_3+</th>\n",
       "      <th>Education_Graduate</th>\n",
       "      <th>Education_Not Graduate</th>\n",
       "      <th>Self_Employed_No</th>\n",
       "      <th>Self_Employed_Yes</th>\n",
       "      <th>Property_Area_Rural</th>\n",
       "      <th>Property_Area_Semiurban</th>\n",
       "      <th>Property_Area_Urban</th>\n",
       "    </tr>\n",
       "  </thead>\n",
       "  <tbody>\n",
       "    <tr>\n",
       "      <th>0</th>\n",
       "      <td>LP001002</td>\n",
       "      <td>5849</td>\n",
       "      <td>0.0</td>\n",
       "      <td>128.0</td>\n",
       "      <td>360.0</td>\n",
       "      <td>1.0</td>\n",
       "      <td>Y</td>\n",
       "      <td>0</td>\n",
       "      <td>1</td>\n",
       "      <td>1</td>\n",
       "      <td>...</td>\n",
       "      <td>0</td>\n",
       "      <td>0</td>\n",
       "      <td>0</td>\n",
       "      <td>1</td>\n",
       "      <td>0</td>\n",
       "      <td>1</td>\n",
       "      <td>0</td>\n",
       "      <td>0</td>\n",
       "      <td>0</td>\n",
       "      <td>1</td>\n",
       "    </tr>\n",
       "    <tr>\n",
       "      <th>1</th>\n",
       "      <td>LP001003</td>\n",
       "      <td>4583</td>\n",
       "      <td>1508.0</td>\n",
       "      <td>128.0</td>\n",
       "      <td>360.0</td>\n",
       "      <td>1.0</td>\n",
       "      <td>N</td>\n",
       "      <td>0</td>\n",
       "      <td>1</td>\n",
       "      <td>0</td>\n",
       "      <td>...</td>\n",
       "      <td>1</td>\n",
       "      <td>0</td>\n",
       "      <td>0</td>\n",
       "      <td>1</td>\n",
       "      <td>0</td>\n",
       "      <td>1</td>\n",
       "      <td>0</td>\n",
       "      <td>1</td>\n",
       "      <td>0</td>\n",
       "      <td>0</td>\n",
       "    </tr>\n",
       "    <tr>\n",
       "      <th>2</th>\n",
       "      <td>LP001005</td>\n",
       "      <td>3000</td>\n",
       "      <td>0.0</td>\n",
       "      <td>66.0</td>\n",
       "      <td>360.0</td>\n",
       "      <td>1.0</td>\n",
       "      <td>Y</td>\n",
       "      <td>0</td>\n",
       "      <td>1</td>\n",
       "      <td>0</td>\n",
       "      <td>...</td>\n",
       "      <td>0</td>\n",
       "      <td>0</td>\n",
       "      <td>0</td>\n",
       "      <td>1</td>\n",
       "      <td>0</td>\n",
       "      <td>0</td>\n",
       "      <td>1</td>\n",
       "      <td>0</td>\n",
       "      <td>0</td>\n",
       "      <td>1</td>\n",
       "    </tr>\n",
       "    <tr>\n",
       "      <th>3</th>\n",
       "      <td>LP001006</td>\n",
       "      <td>2583</td>\n",
       "      <td>2358.0</td>\n",
       "      <td>120.0</td>\n",
       "      <td>360.0</td>\n",
       "      <td>1.0</td>\n",
       "      <td>Y</td>\n",
       "      <td>0</td>\n",
       "      <td>1</td>\n",
       "      <td>0</td>\n",
       "      <td>...</td>\n",
       "      <td>0</td>\n",
       "      <td>0</td>\n",
       "      <td>0</td>\n",
       "      <td>0</td>\n",
       "      <td>1</td>\n",
       "      <td>1</td>\n",
       "      <td>0</td>\n",
       "      <td>0</td>\n",
       "      <td>0</td>\n",
       "      <td>1</td>\n",
       "    </tr>\n",
       "    <tr>\n",
       "      <th>4</th>\n",
       "      <td>LP001008</td>\n",
       "      <td>6000</td>\n",
       "      <td>0.0</td>\n",
       "      <td>141.0</td>\n",
       "      <td>360.0</td>\n",
       "      <td>1.0</td>\n",
       "      <td>Y</td>\n",
       "      <td>0</td>\n",
       "      <td>1</td>\n",
       "      <td>1</td>\n",
       "      <td>...</td>\n",
       "      <td>0</td>\n",
       "      <td>0</td>\n",
       "      <td>0</td>\n",
       "      <td>1</td>\n",
       "      <td>0</td>\n",
       "      <td>1</td>\n",
       "      <td>0</td>\n",
       "      <td>0</td>\n",
       "      <td>0</td>\n",
       "      <td>1</td>\n",
       "    </tr>\n",
       "  </tbody>\n",
       "</table>\n",
       "<p>5 rows × 22 columns</p>\n",
       "</div>"
      ],
      "text/plain": [
       "    Loan_ID  ApplicantIncome  CoapplicantIncome  LoanAmount  Loan_Amount_Term  \\\n",
       "0  LP001002             5849                0.0       128.0             360.0   \n",
       "1  LP001003             4583             1508.0       128.0             360.0   \n",
       "2  LP001005             3000                0.0        66.0             360.0   \n",
       "3  LP001006             2583             2358.0       120.0             360.0   \n",
       "4  LP001008             6000                0.0       141.0             360.0   \n",
       "\n",
       "   Credit_History Loan_Status  Gender_Female  Gender_Male  Married_No  \\\n",
       "0             1.0           Y              0            1           1   \n",
       "1             1.0           N              0            1           0   \n",
       "2             1.0           Y              0            1           0   \n",
       "3             1.0           Y              0            1           0   \n",
       "4             1.0           Y              0            1           1   \n",
       "\n",
       "          ...           Dependents_1  Dependents_2  Dependents_3+  \\\n",
       "0         ...                      0             0              0   \n",
       "1         ...                      1             0              0   \n",
       "2         ...                      0             0              0   \n",
       "3         ...                      0             0              0   \n",
       "4         ...                      0             0              0   \n",
       "\n",
       "   Education_Graduate  Education_Not Graduate  Self_Employed_No  \\\n",
       "0                   1                       0                 1   \n",
       "1                   1                       0                 1   \n",
       "2                   1                       0                 0   \n",
       "3                   0                       1                 1   \n",
       "4                   1                       0                 1   \n",
       "\n",
       "   Self_Employed_Yes  Property_Area_Rural  Property_Area_Semiurban  \\\n",
       "0                  0                    0                        0   \n",
       "1                  0                    1                        0   \n",
       "2                  1                    0                        0   \n",
       "3                  0                    0                        0   \n",
       "4                  0                    0                        0   \n",
       "\n",
       "   Property_Area_Urban  \n",
       "0                    1  \n",
       "1                    0  \n",
       "2                    1  \n",
       "3                    1  \n",
       "4                    1  \n",
       "\n",
       "[5 rows x 22 columns]"
      ]
     },
     "execution_count": 105,
     "metadata": {},
     "output_type": "execute_result"
    }
   ],
   "source": [
    "train.head()"
   ]
  },
  {
   "cell_type": "code",
   "execution_count": 106,
   "metadata": {},
   "outputs": [],
   "source": [
    "a=test['Loan_ID']\n",
    "X=train.drop(['Loan_ID'], axis=1)\n",
    "test=test.drop(['Loan_ID'], axis=1)\n",
    "X=X.drop(['Loan_Status'], axis=1)"
   ]
  },
  {
   "cell_type": "code",
   "execution_count": 125,
   "metadata": {},
   "outputs": [],
   "source": [
    "from sklearn.model_selection import train_test_split\n",
    "from sklearn.linear_model import LogisticRegression\n",
    "\n",
    "from sklearn.metrics import accuracy_score\n",
    "x_train, x_test, y_train, y_test=train_test_split(X,Y,train_size=0.70,test_size=0.30)"
   ]
  },
  {
   "cell_type": "code",
   "execution_count": 126,
   "metadata": {},
   "outputs": [
    {
     "data": {
      "text/plain": [
       "LogisticRegression(C=1.0, class_weight=None, dual=False, fit_intercept=True,\n",
       "          intercept_scaling=1, max_iter=100, multi_class='ovr', n_jobs=1,\n",
       "          penalty='l2', random_state=None, solver='liblinear', tol=0.0001,\n",
       "          verbose=0, warm_start=False)"
      ]
     },
     "execution_count": 126,
     "metadata": {},
     "output_type": "execute_result"
    }
   ],
   "source": [
    "model=LogisticRegression()\n",
    "model.fit(x_train, y_train)"
   ]
  },
  {
   "cell_type": "code",
   "execution_count": 128,
   "metadata": {},
   "outputs": [],
   "source": [
    "pred_cv = model.predict(x_test)"
   ]
  },
  {
   "cell_type": "code",
   "execution_count": 129,
   "metadata": {},
   "outputs": [
    {
     "data": {
      "text/plain": [
       "0.8324324324324325"
      ]
     },
     "execution_count": 129,
     "metadata": {},
     "output_type": "execute_result"
    }
   ],
   "source": [
    "accuracy_score(y_test,pred_cv)"
   ]
  },
  {
   "cell_type": "code",
   "execution_count": 130,
   "metadata": {},
   "outputs": [],
   "source": [
    "pred_test = model.predict(test)"
   ]
  },
  {
   "cell_type": "code",
   "execution_count": 149,
   "metadata": {},
   "outputs": [
    {
     "data": {
      "text/plain": [
       "array([[ 28,  28],\n",
       "       [  3, 126]], dtype=int64)"
      ]
     },
     "execution_count": 149,
     "metadata": {},
     "output_type": "execute_result"
    }
   ],
   "source": [
    "from sklearn.metrics import confusion_matrix\n",
    "confusion_matrix(y_test,pred_cv )"
   ]
  },
  {
   "cell_type": "code",
   "execution_count": 131,
   "metadata": {},
   "outputs": [],
   "source": [
    "submission=pd.DataFrame({\"Loan_ID\":a,\"Loan_Status\":pred_test})\n"
   ]
  },
  {
   "cell_type": "code",
   "execution_count": 132,
   "metadata": {},
   "outputs": [
    {
     "data": {
      "text/html": [
       "<div>\n",
       "<style scoped>\n",
       "    .dataframe tbody tr th:only-of-type {\n",
       "        vertical-align: middle;\n",
       "    }\n",
       "\n",
       "    .dataframe tbody tr th {\n",
       "        vertical-align: top;\n",
       "    }\n",
       "\n",
       "    .dataframe thead th {\n",
       "        text-align: right;\n",
       "    }\n",
       "</style>\n",
       "<table border=\"1\" class=\"dataframe\">\n",
       "  <thead>\n",
       "    <tr style=\"text-align: right;\">\n",
       "      <th></th>\n",
       "      <th>Loan_ID</th>\n",
       "      <th>Loan_Status</th>\n",
       "    </tr>\n",
       "  </thead>\n",
       "  <tbody>\n",
       "    <tr>\n",
       "      <th>0</th>\n",
       "      <td>LP001015</td>\n",
       "      <td>1</td>\n",
       "    </tr>\n",
       "    <tr>\n",
       "      <th>1</th>\n",
       "      <td>LP001022</td>\n",
       "      <td>1</td>\n",
       "    </tr>\n",
       "    <tr>\n",
       "      <th>2</th>\n",
       "      <td>LP001031</td>\n",
       "      <td>1</td>\n",
       "    </tr>\n",
       "    <tr>\n",
       "      <th>3</th>\n",
       "      <td>LP001035</td>\n",
       "      <td>1</td>\n",
       "    </tr>\n",
       "    <tr>\n",
       "      <th>4</th>\n",
       "      <td>LP001051</td>\n",
       "      <td>1</td>\n",
       "    </tr>\n",
       "  </tbody>\n",
       "</table>\n",
       "</div>"
      ],
      "text/plain": [
       "    Loan_ID  Loan_Status\n",
       "0  LP001015            1\n",
       "1  LP001022            1\n",
       "2  LP001031            1\n",
       "3  LP001035            1\n",
       "4  LP001051            1"
      ]
     },
     "execution_count": 132,
     "metadata": {},
     "output_type": "execute_result"
    }
   ],
   "source": [
    "submission.head()"
   ]
  },
  {
   "cell_type": "code",
   "execution_count": 133,
   "metadata": {},
   "outputs": [],
   "source": [
    "submission['Loan_Status'].replace(0, 'N',inplace=True)\n",
    "submission['Loan_Status'].replace(1, 'Y',inplace=True)"
   ]
  },
  {
   "cell_type": "code",
   "execution_count": 134,
   "metadata": {},
   "outputs": [],
   "source": [
    "submission.to_csv(\"logstic.csv\")"
   ]
  },
  {
   "cell_type": "code",
   "execution_count": 135,
   "metadata": {},
   "outputs": [
    {
     "ename": "NameError",
     "evalue": "name 'create_download_link' is not defined",
     "output_type": "error",
     "traceback": [
      "\u001b[1;31m---------------------------------------------------------------------------\u001b[0m",
      "\u001b[1;31mNameError\u001b[0m                                 Traceback (most recent call last)",
      "\u001b[1;32m<ipython-input-135-a3f32b657b57>\u001b[0m in \u001b[0;36m<module>\u001b[1;34m()\u001b[0m\n\u001b[1;32m----> 1\u001b[1;33m \u001b[0mcreate_download_link\u001b[0m\u001b[1;33m(\u001b[0m\u001b[1;34m'logstic.csv'\u001b[0m\u001b[1;33m)\u001b[0m\u001b[1;33m\u001b[0m\u001b[0m\n\u001b[0m",
      "\u001b[1;31mNameError\u001b[0m: name 'create_download_link' is not defined"
     ]
    }
   ],
   "source": [
    "create_download_link('logstic.csv')"
   ]
  },
  {
   "cell_type": "code",
   "execution_count": 137,
   "metadata": {},
   "outputs": [
    {
     "data": {
      "text/html": [
       "<a download=\"logstic.csv\" href=\"data:text/csv;base64,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\" target=\"_blank\">Download CSV file</a>"
      ],
      "text/plain": [
       "<IPython.core.display.HTML object>"
      ]
     },
     "execution_count": 137,
     "metadata": {},
     "output_type": "execute_result"
    }
   ],
   "source": [
    "from IPython.display import HTML\n",
    "import base64  \n",
    "import pandas as pd  \n",
    "\n",
    "def create_download_link(submission , title = \"Download CSV file\", filename = \"logstic.csv\"):  \n",
    "    csv = submission.to_csv(index =False)\n",
    "    b64 = base64.b64encode(csv.encode())\n",
    "    payload = b64.decode()\n",
    "    html = '<a download=\"{filename}\" href=\"data:text/csv;base64,{payload}\" target=\"_blank\">{title}</a>'\n",
    "    html = html.format(payload=payload,title=title,filename=filename)\n",
    "    return HTML(html)\n",
    "\n",
    "create_download_link(submission)"
   ]
  }
 ],
 "metadata": {
  "kernelspec": {
   "display_name": "Python 3",
   "language": "python",
   "name": "python3"
  },
  "language_info": {
   "codemirror_mode": {
    "name": "ipython",
    "version": 3
   },
   "file_extension": ".py",
   "mimetype": "text/x-python",
   "name": "python",
   "nbconvert_exporter": "python",
   "pygments_lexer": "ipython3",
   "version": "3.6.5"
  }
 },
 "nbformat": 4,
 "nbformat_minor": 2
}
